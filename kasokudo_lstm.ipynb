{
 "cells": [
  {
   "cell_type": "code",
   "execution_count": 2,
   "metadata": {
    "collapsed": false
   },
   "outputs": [
    {
     "name": "stdout",
     "output_type": "stream",
     "text": [
      "(seq_len, bt_size, vec_size)\n",
      "(128, 7352, 3)\n"
     ]
    }
   ],
   "source": [
    "import numpy as np\n",
    "%matplotlib inline\n",
    "import matplotlib.pyplot as plt\n",
    "\n",
    "# making train data\n",
    "path = \"/Users/sabosan/data/UCI_HAR_Dataset/train/Inertial_Signals/\"\n",
    "ax = np.loadtxt(path+\"body_acc_x_train.txt\")\n",
    "ay = np.loadtxt(path+\"body_acc_y_train.txt\")\n",
    "az = np.loadtxt(path+\"body_acc_z_train.txt\")\n",
    "path_label = \"/Users/sabosan/data/UCI_HAR_Dataset/train/y_train.txt\"\n",
    "y_train = np.loadtxt(path_label); y_train = np.array(y_train,int)\n",
    "# 1-6 -> 0-5\n",
    "y_train[:] = y_train[:]-1\n",
    "# one-hot\n",
    "y_train =  np.eye(6)[y_train]\n",
    "\n",
    "ax = np.reshape(ax,(7352,128,1))\n",
    "ay = np.reshape(ay,(7352,128,1))\n",
    "az = np.reshape(az,(7352,128,1))\n",
    "\n",
    "# 3ch data\n",
    "acc = ax.copy()\n",
    "acc = np.append(acc,ay,axis=2)\n",
    "acc = np.append(acc,az,axis=2)\n",
    "acc = np.transpose(acc,(1,0,2))\n",
    "X_train = acc\n",
    "print(\"(seq_len, bt_size, vec_size)\")\n",
    "print(X_train.shape)"
   ]
  },
  {
   "cell_type": "code",
   "execution_count": 3,
   "metadata": {
    "collapsed": false
   },
   "outputs": [
    {
     "name": "stdout",
     "output_type": "stream",
     "text": [
      "(seq_len, bt_size, vec_size)\n",
      "(128, 2947, 3)\n",
      "(2947, 6)\n"
     ]
    }
   ],
   "source": [
    "# making test data\n",
    "path = \"/Users/sabosan/data/UCI_HAR_Dataset/test/Inertial_Signals/\"\n",
    "ax = np.loadtxt(path+\"body_acc_x_test.txt\")\n",
    "ay = np.loadtxt(path+\"body_acc_y_test.txt\")\n",
    "az = np.loadtxt(path+\"body_acc_z_test.txt\")\n",
    "path_label = \"/Users/sabosan/data/UCI_HAR_Dataset/test/y_test.txt\"\n",
    "y_test = np.loadtxt(path_label); y_test = np.array(y_test,int)\n",
    "# 1-6 -> 0-5\n",
    "y_test[:] = y_test[:]-1\n",
    "# one-hot\n",
    "y_test =  np.eye(6)[y_test]\n",
    "\n",
    "# 3ch data\n",
    "ax = np.reshape(ax,(2947,128,1))\n",
    "ay = np.reshape(ay,(2947,128,1))\n",
    "az = np.reshape(az,(2947,128,1))\n",
    "acc = ax.copy()\n",
    "acc = np.append(acc,ay,axis=2)\n",
    "acc = np.append(acc,az,axis=2)\n",
    "acc = np.transpose(acc,(1,0,2))\n",
    "X_test = acc\n",
    "print(\"(seq_len, bt_size, vec_size)\")\n",
    "print(X_test.shape)\n",
    "print(y_test.shape)"
   ]
  },
  {
   "cell_type": "code",
   "execution_count": 4,
   "metadata": {
    "collapsed": false
   },
   "outputs": [
    {
     "data": {
      "image/png": "[encoded data removed]",
      "text/plain": [
       "<matplotlib.figure.Figure at 0x10b14b0f0>"
      ]
     },
     "metadata": {},
     "output_type": "display_data"
    }
   ],
   "source": [
    "num_samp = np.arange(0,X_test.shape[1]) \n",
    "\n",
    "i = 100\n",
    "plt.plot(num_samp,ax[:,i])\n",
    "plt.plot(num_samp,ay[:,i])\n",
    "plt.plot(num_samp,az[:,i])\n",
    "plt.show()"
   ]
  },
  {
   "cell_type": "code",
   "execution_count": 5,
   "metadata": {
    "collapsed": true
   },
   "outputs": [],
   "source": [
    "import torch\n",
    "import torch.nn as nn\n",
    "\n",
    "class MyLSTM(nn.Module):\n",
    "    def __init__(self, inputDim, hiddenDim, outputDim):\n",
    "        super(MyLSTM, self).__init__()\n",
    "\n",
    "        self.rnn = nn.LSTM(input_size = inputDim,\n",
    "                            hidden_size = hiddenDim,\n",
    "                            batch_first = True)\n",
    "        self.output_layer = nn.Linear(hiddenDim, outputDim)\n",
    "    \n",
    "    def forward(self, inputs, hidden0=None):\n",
    "        output, (hidden, cell) = self.rnn(inputs, hidden0) #LSTM層\n",
    "        output = self.output_layer(output[:, -1, :]) #全結合層\n",
    "        \n",
    "        return output"
   ]
  },
  {
   "cell_type": "code",
   "execution_count": null,
   "metadata": {
    "collapsed": false
   },
   "outputs": [],
   "source": []
  },
  {
   "cell_type": "code",
   "execution_count": 6,
   "metadata": {
    "collapsed": true
   },
   "outputs": [],
   "source": [
    "# making batch randomly\n",
    "def mkRandomBatch(train_x, train_t, batch_size=10):\n",
    "    \"\"\"\n",
    "    train_x, train_tを受け取ってbatch_x, batch_tを返す。\n",
    "    \"\"\"\n",
    "    batch_x = []\n",
    "    batch_t = []\n",
    "\n",
    "    for _ in range(batch_size):\n",
    "        idx = np.random.randint(0, len(train_x) - 1)\n",
    "        batch_x.append(train_x[idx])\n",
    "        batch_t.append(train_t[idx])\n",
    "    \n",
    "    return torch.tensor(batch_x), torch.tensor(batch_t)"
   ]
  },
  {
   "cell_type": "code",
   "execution_count": 8,
   "metadata": {
    "collapsed": false
   },
   "outputs": [],
   "source": [
    "import torch.optim as optim #\n",
    "\n",
    "vec_size = 3\n",
    "hidden_size = 5 \n",
    "out_dim = 6\n",
    "\n",
    "epochs_num = 1000\n",
    "training_size = 7352 \n",
    "test_size = 2947\n",
    "batch_size = 100\n",
    "\n",
    "model = MyLSTM(vec_size, hidden_size, out_dim) \n",
    "criterion = nn.CrossEntropyLoss()\n",
    "optimizer = optim.SGD(model.parameters(), lr=0.001, momentum=0.9) # decay入れる"
   ]
  },
  {
   "cell_type": "code",
   "execution_count": null,
   "metadata": {
    "collapsed": true
   },
   "outputs": [],
   "source": []
  }
 ],
 "metadata": {
  "kernelspec": {
   "display_name": "Python 3",
   "language": "python",
   "name": "python3"
  },
  "language_info": {
   "codemirror_mode": {
    "name": "ipython",
    "version": 3
   },
   "file_extension": ".py",
   "mimetype": "text/x-python",
   "name": "python",
   "nbconvert_exporter": "python",
   "pygments_lexer": "ipython3",
   "version": "3.6.0"
  }
 },
 "nbformat": 4,
 "nbformat_minor": 2
}
